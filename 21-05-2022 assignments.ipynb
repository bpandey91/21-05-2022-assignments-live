{
 "cells": [
  {
   "cell_type": "code",
   "execution_count": 1,
   "id": "23852a59",
   "metadata": {},
   "outputs": [],
   "source": [
    "l = [3,4,5,6,7 , [23,456,67,8,78,78] , [345,56,87,8,98,9] , (234,6657,6) , {\"key1\" :\"sudh\" , 234:[23,45,656]}]"
   ]
  },
  {
   "cell_type": "code",
   "execution_count": 2,
   "id": "45c89d3a",
   "metadata": {},
   "outputs": [],
   "source": [
    "l.reverse()"
   ]
  },
  {
   "cell_type": "code",
   "execution_count": 11,
   "id": "e9387671",
   "metadata": {},
   "outputs": [
    {
     "data": {
      "text/plain": [
       "[{'key1': 'sudh', 234: [23, 45, 656]},\n",
       " (234, 6657, 6),\n",
       " [345, 56, 87, 8, 98, 9],\n",
       " [23, 456, 67, 8, 78, 78],\n",
       " 7,\n",
       " 6,\n",
       " 5,\n",
       " 4,\n",
       " 3]"
      ]
     },
     "execution_count": 11,
     "metadata": {},
     "output_type": "execute_result"
    }
   ],
   "source": [
    "l[::-1]"
   ]
  },
  {
   "cell_type": "code",
   "execution_count": 4,
   "id": "3f38532e",
   "metadata": {},
   "outputs": [],
   "source": [
    "l.reverse()"
   ]
  },
  {
   "cell_type": "code",
   "execution_count": 12,
   "id": "bf351e4b",
   "metadata": {},
   "outputs": [
    {
     "data": {
      "text/plain": [
       "[3,\n",
       " 4,\n",
       " 5,\n",
       " 6,\n",
       " 7,\n",
       " [23, 456, 67, 8, 78, 78],\n",
       " [345, 56, 87, 8, 98, 9],\n",
       " (234, 6657, 6),\n",
       " {'key1': 'sudh', 234: [23, 45, 656]}]"
      ]
     },
     "execution_count": 12,
     "metadata": {},
     "output_type": "execute_result"
    }
   ],
   "source": [
    "l"
   ]
  },
  {
   "cell_type": "code",
   "execution_count": 7,
   "id": "d6eece56",
   "metadata": {},
   "outputs": [
    {
     "data": {
      "text/plain": [
       "234"
      ]
     },
     "execution_count": 7,
     "metadata": {},
     "output_type": "execute_result"
    }
   ],
   "source": [
    "l[7][0]"
   ]
  },
  {
   "cell_type": "code",
   "execution_count": 8,
   "id": "2b676fdf",
   "metadata": {},
   "outputs": [
    {
     "data": {
      "text/plain": [
       "456"
      ]
     },
     "execution_count": 8,
     "metadata": {},
     "output_type": "execute_result"
    }
   ],
   "source": [
    "l[5][1]"
   ]
  },
  {
   "cell_type": "code",
   "execution_count": null,
   "id": "e3819189",
   "metadata": {},
   "outputs": [],
   "source": [
    ". Try to extract only a list collection form list l:>>>> Dont know the solution pls explain."
   ]
  },
  {
   "cell_type": "code",
   "execution_count": 13,
   "id": "4512a10c",
   "metadata": {},
   "outputs": [],
   "source": [
    "l.extend('sudh')"
   ]
  },
  {
   "cell_type": "code",
   "execution_count": 14,
   "id": "71f3f69e",
   "metadata": {},
   "outputs": [
    {
     "data": {
      "text/plain": [
       "[3,\n",
       " 4,\n",
       " 5,\n",
       " 6,\n",
       " 7,\n",
       " [23, 456, 67, 8, 78, 78],\n",
       " [345, 56, 87, 8, 98, 9],\n",
       " (234, 6657, 6),\n",
       " {'key1': 'sudh', 234: [23, 45, 656]},\n",
       " 's',\n",
       " 'u',\n",
       " 'd',\n",
       " 'h']"
      ]
     },
     "execution_count": 14,
     "metadata": {},
     "output_type": "execute_result"
    }
   ],
   "source": [
    "l"
   ]
  },
  {
   "cell_type": "code",
   "execution_count": 16,
   "id": "b5390810",
   "metadata": {},
   "outputs": [
    {
     "data": {
      "text/plain": [
       "False"
      ]
     },
     "execution_count": 16,
     "metadata": {},
     "output_type": "execute_result"
    }
   ],
   "source": [
    "'sudh' in l"
   ]
  },
  {
   "cell_type": "code",
   "execution_count": 21,
   "id": "752a7776",
   "metadata": {},
   "outputs": [
    {
     "data": {
      "text/plain": [
       "'sudh'"
      ]
     },
     "execution_count": 21,
     "metadata": {},
     "output_type": "execute_result"
    }
   ],
   "source": [
    "l[8]['key1']"
   ]
  },
  {
   "cell_type": "code",
   "execution_count": 24,
   "id": "5ab2e6dc",
   "metadata": {},
   "outputs": [
    {
     "data": {
      "text/plain": [
       "dict_keys(['key1', 234])"
      ]
     },
     "execution_count": 24,
     "metadata": {},
     "output_type": "execute_result"
    }
   ],
   "source": [
    "l[8].keys()"
   ]
  },
  {
   "cell_type": "code",
   "execution_count": 25,
   "id": "630d0f02",
   "metadata": {},
   "outputs": [
    {
     "data": {
      "text/plain": [
       "dict_values(['sudh', [23, 45, 656]])"
      ]
     },
     "execution_count": 25,
     "metadata": {},
     "output_type": "execute_result"
    }
   ],
   "source": [
    "l[8].values()"
   ]
  },
  {
   "cell_type": "code",
   "execution_count": 32,
   "id": "06327a1c",
   "metadata": {},
   "outputs": [
    {
     "ename": "TypeError",
     "evalue": "list.count() takes exactly one argument (0 given)",
     "output_type": "error",
     "traceback": [
      "\u001b[1;31m---------------------------------------------------------------------------\u001b[0m",
      "\u001b[1;31mTypeError\u001b[0m                                 Traceback (most recent call last)",
      "\u001b[1;32m~\\AppData\\Local\\Temp/ipykernel_17996/3590848569.py\u001b[0m in \u001b[0;36m<module>\u001b[1;34m\u001b[0m\n\u001b[1;32m----> 1\u001b[1;33m \u001b[0ml\u001b[0m\u001b[1;33m.\u001b[0m\u001b[0mcount\u001b[0m\u001b[1;33m(\u001b[0m\u001b[1;33m)\u001b[0m\u001b[1;33m\u001b[0m\u001b[1;33m\u001b[0m\u001b[0m\n\u001b[0m",
      "\u001b[1;31mTypeError\u001b[0m: list.count() takes exactly one argument (0 given)"
     ]
    }
   ],
   "source": []
  },
  {
   "cell_type": "code",
   "execution_count": null,
   "id": "6bdfe97e",
   "metadata": {},
   "outputs": [],
   "source": []
  },
  {
   "cell_type": "code",
   "execution_count": null,
   "id": "e5828897",
   "metadata": {},
   "outputs": [],
   "source": []
  }
 ],
 "metadata": {
  "kernelspec": {
   "display_name": "Python 3 (ipykernel)",
   "language": "python",
   "name": "python3"
  },
  "language_info": {
   "codemirror_mode": {
    "name": "ipython",
    "version": 3
   },
   "file_extension": ".py",
   "mimetype": "text/x-python",
   "name": "python",
   "nbconvert_exporter": "python",
   "pygments_lexer": "ipython3",
   "version": "3.9.7"
  }
 },
 "nbformat": 4,
 "nbformat_minor": 5
}
